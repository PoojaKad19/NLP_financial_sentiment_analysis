{
 "cells": [
  {
   "cell_type": "markdown",
   "metadata": {
    "papermill": {
     "duration": 0.045713,
     "end_time": "2020-10-12T12:26:42.008428",
     "exception": false,
     "start_time": "2020-10-12T12:26:41.962715",
     "status": "completed"
    },
    "tags": []
   },
   "source": [
    "# NLP\n",
    "\n",
    "Natural language processing (NLP) is a subfield of linguistics, computer science, and artificial intelligence concerned with the interactions between computers and human language, in particular how to program computers to process and analyze large amounts of natural language data.\n",
    "\n",
    "NLP is currently the focus of significant interest in the machine learning community. Some of the use cases for NLP are listed here:\n",
    "* Chatbots\n",
    "* Search(text and Audio)\n",
    "* Text Classification\n",
    "* Sentiment Analysis\n",
    "* Recomendation System\n",
    "* Quesstion Answering\n",
    "* Speech recognation\n",
    "* NLU (Natural Language Understanding)\n",
    "* NLG ( Natural Language Generation)\n",
    "\n",
    "You encounter many of these use cases in everyday life : when you visit web pages or perform an online search for books, or recommendation regarding movies.\n",
    "\n",
    "\n"
   ]
  },
  {
   "cell_type": "markdown",
   "metadata": {
    "papermill": {
     "duration": 0.050048,
     "end_time": "2020-10-12T12:26:42.105824",
     "exception": false,
     "start_time": "2020-10-12T12:26:42.055776",
     "status": "completed"
    },
    "tags": []
   },
   "source": [
    "# NLP Techniques\n",
    "\n",
    "The earliest approach for solving NLP task involves rule-based approachers, which dominated the indusytry for decades. Examples of techniques using rule based approaches include Regular Expressions (RegExs) and Context Free Grammars (CFGs). RegExs are sometimes used in order to remove HTML tags from text that has been scraped from a web page or uwanted special characters from a document.\n",
    "\n",
    "\n",
    "The second approach involved training a machine learning model with some data that is based on some user defined features. This technique requires a considerable amount of features engineering ( a nontrivial task), and includes analyzing the text to remove undersired and superfluous content(including stop words), as well as transforming the word (e.g., converting upercase to lowercase).\n",
    "\n",
    "\n",
    "The most recent approach involves deep learning, whereby a neural network learns the features instead of relying on human to perform feature engineering. One of the key ideas involves mapping words to numbers, which enables us to map sentence to vector of number. After transforming documents to vector, we can perform a myriad of operations on those vector.  For example we use the notion of vector space to define vector space model, where the distance between two vector can be measured  by the angle between them (related to cosine similarity). If two vector are closed to each other, then it's likelier that the coresponding sentence are similar meaning. Their similarity is based on the distributional hypothesis, which asserts that words in the same contexts tent to have similar meaning.The NLP models that use deep learning can comprise CNNs, RNNs, LSTMs, and bidirectional LSTMs.\n"
   ]
  },
  {
   "cell_type": "markdown",
   "metadata": {
    "papermill": {
     "duration": 0.045671,
     "end_time": "2020-10-12T12:26:42.197598",
     "exception": false,
     "start_time": "2020-10-12T12:26:42.151927",
     "status": "completed"
    },
    "tags": []
   },
   "source": [
    "# Example Cases : Sentiment Analysis\n",
    "\n",
    "# This work tries to classifying sentiment from financial news using Combination Doc2vec and LSTM"
   ]
  },
  {
   "cell_type": "markdown",
   "metadata": {
    "papermill": {
     "duration": 0.045684,
     "end_time": "2020-10-12T12:26:42.290057",
     "exception": false,
     "start_time": "2020-10-12T12:26:42.244373",
     "status": "completed"
    },
    "tags": []
   },
   "source": [
    "# What is Sentimen Analysis ?\n",
    "\n",
    "Sentiment analysis refers to the use of natural language processing, text analysis, computational linguistics, and biometrics to systematically identify, extract, quantify, and study affective states and subjective information. Sentiment Analysis [2]: the process of understanding if a given text is talking positively or negatively about a given subject, aiming for brand monitoring.\n",
    "\n",
    "\n",
    "![https://mk0ecommercefas531pc.kinstacdn.com/wp-content/uploads/2019/12/sentiment-analysis.png](https://mk0ecommercefas531pc.kinstacdn.com/wp-content/uploads/2019/12/sentiment-analysis.png)\n",
    "\n",
    "\n",
    "# Different Levels of Analysis \n",
    "\n",
    "According to [4] sentiment analysis has been investigated mainly at three levels:  \n",
    "\n",
    "*** Document level:**\n",
    "\n",
    "The task at this level is to classify whether a whole opinion document expresses a positive or negative sentiment (Pang, Lee and Vaithyanathan, 2002; Turney, 2002). For example, given a product\n",
    "review, the system determines whether the review expresses an overall positive or negative opinion about the product. This task is commonly known as document-level sentiment classification. This level of analysis\n",
    "assumes that each document expresses opinions on a single entity (e.g., a single product). Thus, it is not applicable to documents which evaluate or compare multiple entities. \n",
    "\n",
    "\n",
    "\n",
    "** Sentence level: **\n",
    "\n",
    "\n",
    "The task at this level goes to the sentences and determines whether each sentence expressed a positive, negative, or neutral opinion. Neutral usually means no opinion. This level of analysis is closely related to subjectivity classification (Wiebe, Bruce and O'Hara, 1999), which distinguishes sentences (called objective sentences) that express factual information from sentences (called subjective sentences) that express\n",
    "subjective views and opinions. However, we should note that subjectivity is not equivalent to sentiment as many objective sentences can imply opinions, e.g., “We bought the car last month and the windshield wiper\n",
    "has fallen off.” Researchers have also analyzed clauses (Wilson, Wiebe and Hwa, 2004), but the clause level is still not enough, e.g., “Apple is doing very well in this lousy economy.” \n",
    "\n",
    "\n",
    "**Entity and Aspect level: **\n",
    "\n",
    "\n",
    "Both the document level and the sentence level analyses do not discover what exactly people liked and did not like. Aspect level performs finer-grained analysis. Aspect level was earlier called feature level (feature-based opinion mining and summarization) (Hu and Liu, 2004). Instead of looking at language constructs (documents, paragraphs, sentences, clauses or phrases), aspect level directly looks at the opinion itself. It is based on the idea that an opinion consists of a sentiment (positive or negative) and a target (of opinion). An opinion without its target being identified is of limited use. Realizing the importance of opinion targets also helps us understand the sentiment\n",
    "analysis problem better. \n",
    "\n"
   ]
  },
  {
   "cell_type": "markdown",
   "metadata": {
    "papermill": {
     "duration": 0.045744,
     "end_time": "2020-10-12T12:26:42.474127",
     "exception": false,
     "start_time": "2020-10-12T12:26:42.428383",
     "status": "completed"
    },
    "tags": []
   },
   "source": [
    "\n",
    "# What is LSTM ?\n",
    "\n",
    "Long Short Term Memory (LSTM) is a special kind of Recurrent Neural Network (RNN), capable of learning long-term dependencies. These long-term dependencies have a great influence on the meaning and overall polarity of a document. Long short-term memory networks (LSTM) address this long-term dependency problem by introducing a memory into the network. It was first introduced by **Hochreiter & Schmidhuber**.\n",
    "\n",
    "\n",
    "The LSTM architecture has a range of repeated modules for each time step as in a standard RNN. At each time step, the output of the module is controlled by a set of gates, as a function of the old hidden state ℎ𝑡−1 and the input at the current time step 𝑥𝑡 : the forget gate 𝑓𝑡, the input gate 𝑖𝑡 , and the output gate 𝑂𝑡 . These gates collectively decide how to update the current memory cell 𝐶𝑡 and the current hidden state ℎ𝑡 . The LSTM transition functions are defined as follows:\n",
    "\n",
    "𝑖𝑡=(𝑊𝑖[ℎ𝑡−1,𝑥𝑡]+𝑏𝑖) \n",
    "\n",
    "𝐶´𝑡=𝑡𝑎𝑛ℎ(𝑊𝑐[ℎ𝑡−1,𝑥𝑡]+𝑏𝐶) \n",
    "\n",
    "𝑓𝑡=(𝑊𝑓[ℎ𝑡−1,𝑥𝑡]+𝑏𝑓) \n",
    "\n",
    "𝑂𝑡=(𝑊𝑜[ℎ𝑡−1,𝑥𝑡]+𝑏𝑜) \n",
    "\n",
    "𝐶𝑡= 𝑓𝑡∗𝐶𝑡−1+𝑖𝑡∗𝐶´𝑡\n",
    "\n",
    "Here 𝜎 is logistic sigmoid function that has an output in 𝑛 [0,1] ,tanh denotes the hyperbolic tangent function that has an output ℎ 𝑖𝑛 [−1,1], and ∗ denotes the pointwise multiplication.\n",
    "\n",
    "\n",
    "As I mentioned before to deal with Deep learning we have to map sentence to vector of number. In this work inspired by [3] Doc2vec as the embedding used for extracting information context. The Doc2vec is an unsupervised algorithm that learns fixed-length feature representations from variable-length pieces of texts such as sentences, paragraphs, and documents.\n"
   ]
  },
  {
   "cell_type": "code",
   "execution_count": 7,
   "metadata": {
    "_cell_guid": "b1076dfc-b9ad-4769-8c92-a6c4dae69d19",
    "_uuid": "8f2839f25d086af736a60e9eeb907d3b93b6e0e5",
    "execution": {
     "iopub.execute_input": "2020-10-12T12:26:42.667444Z",
     "iopub.status.busy": "2020-10-12T12:26:42.666465Z",
     "iopub.status.idle": "2020-10-12T12:26:49.462818Z",
     "shell.execute_reply": "2020-10-12T12:26:49.461925Z"
    },
    "papermill": {
     "duration": 6.850687,
     "end_time": "2020-10-12T12:26:49.462948",
     "exception": false,
     "start_time": "2020-10-12T12:26:42.612261",
     "status": "completed"
    },
    "tags": []
   },
   "outputs": [],
   "source": [
    "import pandas as pd\n",
    "import numpy as np\n",
    "from tqdm import tqdm\n",
    "from keras.preprocessing.text import Tokenizer\n",
    "tqdm.pandas(desc=\"progress-bar\")\n",
    "from gensim.models import Doc2Vec\n",
    "from sklearn import utils\n",
    "from sklearn.model_selection import train_test_split\n",
    "from keras.utils import pad_sequences\n",
    "import gensim\n",
    "from sklearn.linear_model import LogisticRegression\n",
    "from gensim.models.doc2vec import TaggedDocument\n",
    "import re\n",
    "import seaborn as sns\n",
    "import matplotlib.pyplot as plt"
   ]
  },
  {
   "cell_type": "markdown",
   "metadata": {
    "papermill": {
     "duration": 0.046251,
     "end_time": "2020-10-12T12:26:49.556802",
     "exception": false,
     "start_time": "2020-10-12T12:26:49.510551",
     "status": "completed"
    },
    "tags": []
   },
   "source": [
    "Read Dataset"
   ]
  },
  {
   "cell_type": "code",
   "execution_count": 8,
   "metadata": {
    "execution": {
     "iopub.execute_input": "2020-10-12T12:26:49.655670Z",
     "iopub.status.busy": "2020-10-12T12:26:49.654895Z",
     "iopub.status.idle": "2020-10-12T12:26:49.709755Z",
     "shell.execute_reply": "2020-10-12T12:26:49.709002Z"
    },
    "papermill": {
     "duration": 0.106491,
     "end_time": "2020-10-12T12:26:49.709876",
     "exception": false,
     "start_time": "2020-10-12T12:26:49.603385",
     "status": "completed"
    },
    "tags": []
   },
   "outputs": [
    {
     "data": {
      "text/html": [
       "<div>\n",
       "<style scoped>\n",
       "    .dataframe tbody tr th:only-of-type {\n",
       "        vertical-align: middle;\n",
       "    }\n",
       "\n",
       "    .dataframe tbody tr th {\n",
       "        vertical-align: top;\n",
       "    }\n",
       "\n",
       "    .dataframe thead th {\n",
       "        text-align: right;\n",
       "    }\n",
       "</style>\n",
       "<table border=\"1\" class=\"dataframe\">\n",
       "  <thead>\n",
       "    <tr style=\"text-align: right;\">\n",
       "      <th></th>\n",
       "      <th>neutral</th>\n",
       "      <th>According to Gran , the company has no plans to move all production to Russia , although that is where the company is growing .</th>\n",
       "    </tr>\n",
       "  </thead>\n",
       "  <tbody>\n",
       "    <tr>\n",
       "      <th>0</th>\n",
       "      <td>neutral</td>\n",
       "      <td>Technopolis plans to develop in stages an area...</td>\n",
       "    </tr>\n",
       "    <tr>\n",
       "      <th>1</th>\n",
       "      <td>negative</td>\n",
       "      <td>The international electronic industry company ...</td>\n",
       "    </tr>\n",
       "    <tr>\n",
       "      <th>2</th>\n",
       "      <td>positive</td>\n",
       "      <td>With the new production plant the company woul...</td>\n",
       "    </tr>\n",
       "    <tr>\n",
       "      <th>3</th>\n",
       "      <td>positive</td>\n",
       "      <td>According to the company 's updated strategy f...</td>\n",
       "    </tr>\n",
       "    <tr>\n",
       "      <th>4</th>\n",
       "      <td>positive</td>\n",
       "      <td>FINANCING OF ASPOCOMP 'S GROWTH Aspocomp is ag...</td>\n",
       "    </tr>\n",
       "  </tbody>\n",
       "</table>\n",
       "</div>"
      ],
      "text/plain": [
       "    neutral  \\\n",
       "0   neutral   \n",
       "1  negative   \n",
       "2  positive   \n",
       "3  positive   \n",
       "4  positive   \n",
       "\n",
       "  According to Gran , the company has no plans to move all production to Russia , although that is where the company is growing .  \n",
       "0  Technopolis plans to develop in stages an area...                                                                               \n",
       "1  The international electronic industry company ...                                                                               \n",
       "2  With the new production plant the company woul...                                                                               \n",
       "3  According to the company 's updated strategy f...                                                                               \n",
       "4  FINANCING OF ASPOCOMP 'S GROWTH Aspocomp is ag...                                                                               "
      ]
     },
     "execution_count": 8,
     "metadata": {},
     "output_type": "execute_result"
    }
   ],
   "source": [
    "df = pd.read_csv('all-data.csv',delimiter=',',encoding='latin-1')\n",
    "df.head()"
   ]
  },
  {
   "cell_type": "code",
   "execution_count": 9,
   "metadata": {
    "execution": {
     "iopub.execute_input": "2020-10-12T12:26:49.811562Z",
     "iopub.status.busy": "2020-10-12T12:26:49.810579Z",
     "iopub.status.idle": "2020-10-12T12:26:49.813757Z",
     "shell.execute_reply": "2020-10-12T12:26:49.813059Z"
    },
    "papermill": {
     "duration": 0.056875,
     "end_time": "2020-10-12T12:26:49.813890",
     "exception": false,
     "start_time": "2020-10-12T12:26:49.757015",
     "status": "completed"
    },
    "tags": []
   },
   "outputs": [],
   "source": [
    "df = df.rename(columns={'neutral':'sentiment','According to Gran , the company has no plans to move all production to Russia , although that is where the company is growing .':'Message'})"
   ]
  },
  {
   "cell_type": "code",
   "execution_count": 10,
   "metadata": {
    "_cell_guid": "79c7e3d0-c299-4dcb-8224-4455121ee9b0",
    "_uuid": "d629ff2d2480ee46fbb7e2d37f6b5fab8052498a",
    "execution": {
     "iopub.execute_input": "2020-10-12T12:26:49.916465Z",
     "iopub.status.busy": "2020-10-12T12:26:49.915342Z",
     "iopub.status.idle": "2020-10-12T12:26:49.919670Z",
     "shell.execute_reply": "2020-10-12T12:26:49.918929Z"
    },
    "papermill": {
     "duration": 0.057305,
     "end_time": "2020-10-12T12:26:49.919790",
     "exception": false,
     "start_time": "2020-10-12T12:26:49.862485",
     "status": "completed"
    },
    "tags": []
   },
   "outputs": [
    {
     "data": {
      "text/plain": [
       "(4845, 2)"
      ]
     },
     "execution_count": 10,
     "metadata": {},
     "output_type": "execute_result"
    }
   ],
   "source": [
    "df.shape"
   ]
  },
  {
   "cell_type": "code",
   "execution_count": 11,
   "metadata": {
    "execution": {
     "iopub.execute_input": "2020-10-12T12:26:50.035463Z",
     "iopub.status.busy": "2020-10-12T12:26:50.026822Z",
     "iopub.status.idle": "2020-10-12T12:26:50.039928Z",
     "shell.execute_reply": "2020-10-12T12:26:50.039206Z"
    },
    "papermill": {
     "duration": 0.072332,
     "end_time": "2020-10-12T12:26:50.040050",
     "exception": false,
     "start_time": "2020-10-12T12:26:49.967718",
     "status": "completed"
    },
    "tags": []
   },
   "outputs": [
    {
     "data": {
      "text/plain": [
       "111964"
      ]
     },
     "execution_count": 11,
     "metadata": {},
     "output_type": "execute_result"
    }
   ],
   "source": [
    "df.index = range(4845)\n",
    "df['Message'].apply(lambda x: len(x.split(' '))).sum()"
   ]
  },
  {
   "cell_type": "markdown",
   "metadata": {
    "papermill": {
     "duration": 0.048672,
     "end_time": "2020-10-12T12:26:50.137220",
     "exception": false,
     "start_time": "2020-10-12T12:26:50.088548",
     "status": "completed"
    },
    "tags": []
   },
   "source": [
    "VISUALIZING THE DATA"
   ]
  },
  {
   "cell_type": "code",
   "execution_count": 12,
   "metadata": {
    "execution": {
     "iopub.execute_input": "2020-10-12T12:26:50.245448Z",
     "iopub.status.busy": "2020-10-12T12:26:50.242774Z",
     "iopub.status.idle": "2020-10-12T12:26:50.442947Z",
     "shell.execute_reply": "2020-10-12T12:26:50.442238Z"
    },
    "papermill": {
     "duration": 0.257927,
     "end_time": "2020-10-12T12:26:50.443105",
     "exception": false,
     "start_time": "2020-10-12T12:26:50.185178",
     "status": "completed"
    },
    "tags": []
   },
   "outputs": [
    {
     "name": "stderr",
     "output_type": "stream",
     "text": [
      "/Users/kadam/opt/anaconda3/lib/python3.9/site-packages/seaborn/_decorators.py:36: FutureWarning: Pass the following variables as keyword args: x, y. From version 0.12, the only valid positional argument will be `data`, and passing other arguments without an explicit keyword will result in an error or misinterpretation.\n",
      "  warnings.warn(\n"
     ]
    },
    {
     "data": {
      "image/png": "[encoded data removed]",
      "text/plain": [
       "<Figure size 1200x400 with 1 Axes>"
      ]
     },
     "metadata": {},
     "output_type": "display_data"
    }
   ],
   "source": [
    "cnt_pro = df['sentiment'].value_counts()\n",
    "plt.figure(figsize=(12,4))\n",
    "sns.barplot(cnt_pro.index, cnt_pro.values, alpha=0.8)\n",
    "plt.ylabel('Number of Occurrences', fontsize=12)\n",
    "plt.xlabel('sentiment', fontsize=12)\n",
    "plt.xticks(rotation=90)\n",
    "plt.show();"
   ]
  },
  {
   "cell_type": "code",
   "execution_count": 13,
   "metadata": {
    "execution": {
     "iopub.execute_input": "2020-10-12T12:26:50.556412Z",
     "iopub.status.busy": "2020-10-12T12:26:50.555556Z",
     "iopub.status.idle": "2020-10-12T12:26:50.559713Z",
     "shell.execute_reply": "2020-10-12T12:26:50.559124Z"
    },
    "papermill": {
     "duration": 0.067554,
     "end_time": "2020-10-12T12:26:50.559841",
     "exception": false,
     "start_time": "2020-10-12T12:26:50.492287",
     "status": "completed"
    },
    "tags": []
   },
   "outputs": [
    {
     "name": "stdout",
     "output_type": "stream",
     "text": [
      "      sentiment                                            Message\n",
      "0             1  Technopolis plans to develop in stages an area...\n",
      "1             2  The international electronic industry company ...\n",
      "2             0  With the new production plant the company woul...\n",
      "3             0  According to the company 's updated strategy f...\n",
      "4             0  FINANCING OF ASPOCOMP 'S GROWTH Aspocomp is ag...\n",
      "...         ...                                                ...\n",
      "4840          2  LONDON MarketWatch -- Share prices ended lower...\n",
      "4841          1  Rinkuskiai 's beer sales fell by 6.5 per cent ...\n",
      "4842          2  Operating profit fell to EUR 35.4 mn from EUR ...\n",
      "4843          2  Net sales of the Paper segment decreased to EU...\n",
      "4844          2  Sales in Finland decreased by 10.5 % in Januar...\n",
      "\n",
      "[4845 rows x 2 columns]\n"
     ]
    }
   ],
   "source": [
    "#Convert sting to numeric\n",
    "sentiment  = {'positive': 0,'neutral': 1,'negative':2} \n",
    "\n",
    "df.sentiment = [sentiment[item] for item in df.sentiment] \n",
    "print(df)"
   ]
  },
  {
   "cell_type": "code",
   "execution_count": 14,
   "metadata": {
    "execution": {
     "iopub.execute_input": "2020-10-12T12:26:50.666951Z",
     "iopub.status.busy": "2020-10-12T12:26:50.666213Z",
     "iopub.status.idle": "2020-10-12T12:26:50.688240Z",
     "shell.execute_reply": "2020-10-12T12:26:50.687469Z"
    },
    "papermill": {
     "duration": 0.0786,
     "end_time": "2020-10-12T12:26:50.688365",
     "exception": false,
     "start_time": "2020-10-12T12:26:50.609765",
     "status": "completed"
    },
    "tags": []
   },
   "outputs": [
    {
     "name": "stdout",
     "output_type": "stream",
     "text": [
      "Finnish Talentum reports its operating profit increased to EUR 20.5 mn in 2005 from EUR 9.3 mn in 2004 , and net sales totaled EUR 103.3 mn , up from EUR 96.4 mn .\n",
      "Message: 0\n"
     ]
    }
   ],
   "source": [
    "def print_message(index):\n",
    "    example = df[df.index == index][['Message', 'sentiment']].values[0]\n",
    "    if len(example) > 0:\n",
    "        print(example[0])\n",
    "        print('Message:', example[1])\n",
    "print_message(12)"
   ]
  },
  {
   "cell_type": "code",
   "execution_count": 15,
   "metadata": {
    "execution": {
     "iopub.execute_input": "2020-10-12T12:26:50.797821Z",
     "iopub.status.busy": "2020-10-12T12:26:50.796782Z",
     "iopub.status.idle": "2020-10-12T12:26:50.800382Z",
     "shell.execute_reply": "2020-10-12T12:26:50.801184Z"
    },
    "papermill": {
     "duration": 0.062132,
     "end_time": "2020-10-12T12:26:50.801381",
     "exception": false,
     "start_time": "2020-10-12T12:26:50.739249",
     "status": "completed"
    },
    "tags": []
   },
   "outputs": [
    {
     "name": "stdout",
     "output_type": "stream",
     "text": [
      "Technopolis plans to develop in stages an area of no less than 100,000 square meters in order to host companies working in computer technologies and telecommunications , the statement said .\n",
      "Message: 1\n"
     ]
    }
   ],
   "source": [
    "print_message(0)"
   ]
  },
  {
   "cell_type": "markdown",
   "metadata": {
    "papermill": {
     "duration": 0.05082,
     "end_time": "2020-10-12T12:26:50.904555",
     "exception": false,
     "start_time": "2020-10-12T12:26:50.853735",
     "status": "completed"
    },
    "tags": []
   },
   "source": [
    "Text Preprocessing Below we define a function to convert text to lower-case and strip punctuation/symbols from words and so on."
   ]
  },
  {
   "cell_type": "code",
   "execution_count": 16,
   "metadata": {
    "execution": {
     "iopub.execute_input": "2020-10-12T12:26:51.014576Z",
     "iopub.status.busy": "2020-10-12T12:26:51.013707Z",
     "iopub.status.idle": "2020-10-12T12:26:52.465841Z",
     "shell.execute_reply": "2020-10-12T12:26:52.465013Z"
    },
    "papermill": {
     "duration": 1.51066,
     "end_time": "2020-10-12T12:26:52.465985",
     "exception": false,
     "start_time": "2020-10-12T12:26:50.955325",
     "status": "completed"
    },
    "tags": []
   },
   "outputs": [
    {
     "name": "stderr",
     "output_type": "stream",
     "text": [
      "/Users/kadam/opt/anaconda3/lib/python3.9/site-packages/bs4/__init__.py:435: MarkupResemblesLocatorWarning: The input looks more like a filename than markup. You may want to open this file and pass the filehandle into Beautiful Soup.\n",
      "  warnings.warn(\n"
     ]
    }
   ],
   "source": [
    "from bs4 import BeautifulSoup\n",
    "def cleanText(text):\n",
    "    text = BeautifulSoup(text, \"lxml\").text\n",
    "    text = re.sub(r'\\|\\|\\|', r' ', text) \n",
    "    text = re.sub(r'http\\S+', r'<URL>', text)\n",
    "    text = text.lower()\n",
    "    text = text.replace('x', '')\n",
    "    return text\n",
    "df['Message'] = df['Message'].apply(cleanText)"
   ]
  },
  {
   "cell_type": "code",
   "execution_count": 17,
   "metadata": {
    "execution": {
     "iopub.execute_input": "2020-10-12T12:26:52.590236Z",
     "iopub.status.busy": "2020-10-12T12:26:52.589006Z",
     "iopub.status.idle": "2020-10-12T12:26:56.862817Z",
     "shell.execute_reply": "2020-10-12T12:26:56.861767Z"
    },
    "papermill": {
     "duration": 4.34599,
     "end_time": "2020-10-12T12:26:56.862994",
     "exception": false,
     "start_time": "2020-10-12T12:26:52.517004",
     "status": "completed"
    },
    "tags": []
   },
   "outputs": [
    {
     "name": "stdout",
     "output_type": "stream",
     "text": [
      "Found 4845 unique tokens.\n"
     ]
    }
   ],
   "source": [
    "df['Message'] = df['Message'].apply(cleanText)\n",
    "train, test = train_test_split(df, test_size=0.000001 , random_state=42)\n",
    "import nltk\n",
    "from nltk.corpus import stopwords\n",
    "def tokenize_text(text):\n",
    "    tokens = []\n",
    "    for sent in nltk.sent_tokenize(text):\n",
    "        for word in nltk.word_tokenize(sent):\n",
    "            #if len(word) < 0:\n",
    "            if len(word) <= 0:\n",
    "                continue\n",
    "            tokens.append(word.lower())\n",
    "    return tokens\n",
    "train_tagged = train.apply(\n",
    "    lambda r: TaggedDocument(words=tokenize_text(r['Message']), tags=[r.sentiment]), axis=1)\n",
    "test_tagged = test.apply(\n",
    "    lambda r: TaggedDocument(words=tokenize_text(r['Message']), tags=[r.sentiment]), axis=1)\n",
    "\n",
    "# The maximum number of words to be used. (most frequent)\n",
    "max_fatures = 500000\n",
    "\n",
    "# Max number of words in each complaint.\n",
    "MAX_SEQUENCE_LENGTH = 50\n",
    "\n",
    "#tokenizer = Tokenizer(num_words=max_fatures, split=' ')\n",
    "tokenizer = Tokenizer(num_words=max_fatures, split=' ', filters='!\"#$%&()*+,-./:;<=>?@[\\]^_`{|}~', lower=True)\n",
    "tokenizer.fit_on_texts(df['Message'].values)\n",
    "X = tokenizer.texts_to_sequences(df['Message'].values)\n",
    "X = pad_sequences(X)\n",
    "print('Found %s unique tokens.' % len(X))"
   ]
  },
  {
   "cell_type": "code",
   "execution_count": 18,
   "metadata": {
    "execution": {
     "iopub.execute_input": "2020-10-12T12:26:57.004735Z",
     "iopub.status.busy": "2020-10-12T12:26:56.989207Z",
     "iopub.status.idle": "2020-10-12T12:26:57.168898Z",
     "shell.execute_reply": "2020-10-12T12:26:57.168096Z"
    },
    "papermill": {
     "duration": 0.254585,
     "end_time": "2020-10-12T12:26:57.169086",
     "exception": false,
     "start_time": "2020-10-12T12:26:56.914501",
     "status": "completed"
    },
    "tags": []
   },
   "outputs": [
    {
     "name": "stdout",
     "output_type": "stream",
     "text": [
      "Shape of data tensor: (4845, 50)\n"
     ]
    }
   ],
   "source": [
    "X = tokenizer.texts_to_sequences(df['Message'].values)\n",
    "X = pad_sequences(X, maxlen=MAX_SEQUENCE_LENGTH)\n",
    "print('Shape of data tensor:', X.shape)"
   ]
  },
  {
   "cell_type": "code",
   "execution_count": 19,
   "metadata": {
    "execution": {
     "iopub.execute_input": "2020-10-12T12:26:57.279508Z",
     "iopub.status.busy": "2020-10-12T12:26:57.278622Z",
     "iopub.status.idle": "2020-10-12T12:26:57.283858Z",
     "shell.execute_reply": "2020-10-12T12:26:57.283268Z"
    },
    "papermill": {
     "duration": 0.062472,
     "end_time": "2020-10-12T12:26:57.283990",
     "exception": false,
     "start_time": "2020-10-12T12:26:57.221518",
     "status": "completed"
    },
    "tags": []
   },
   "outputs": [
    {
     "data": {
      "text/plain": [
       "array([TaggedDocument(words=['upm-kymmene', 'has', 'generated', 'four', 'consecutive', 'quarters', 'of', 'positive', 'free', 'cash', 'flow', '.'], tags=[0]),\n",
       "       TaggedDocument(words=['in', 'the', 'method', 'the', 'smelt', 'spouts', '2', 'are', 'separated', 'from', 'the', 'working', 'area', '6', 'by', 'a', 'shielding', 'wall', '8', ',', '10', 'arranged', 'movable', 'in', 'relation', 'to', 'the', 'smelt', 'spouts', '.'], tags=[1]),\n",
       "       TaggedDocument(words=['``', 'that', \"'s\", 'a', 'very', 'high', 'figure', 'on', 'the', 'european', 'scale', ',', '``', 'noop', 'said', ',', 'recalling', 'however', 'that', 'this', 'also', 'includes', 'beer', 'bought', 'by', 'finnish', 'tourists', '.'], tags=[1]),\n",
       "       ...,\n",
       "       TaggedDocument(words=['proha', 'plc', '(', 'euronet', ':7327', ')', 'announced', 'today', '(', '19', 'may', ')', 'that', 'its', 'fully-owned', 'subsidiary', ',', 'safran', 'software', 'solutions', 'as', ',', 'has', 'agreed', 'to', 'sell', 'its', '49', '%', 'share', 'of', 'safran', 'north', 'america', 'llc', 'to', 'a', 'sna', 'holding', 'as', ',', 'an', 'investment', 'group', 'based', 'in', 'norway', '.'], tags=[1]),\n",
       "       TaggedDocument(words=['the', 'building', 'will', 'house', 'product', 'development', 'and', 'test', 'laboratories', '.'], tags=[1]),\n",
       "       TaggedDocument(words=['(', 'adp', 'news', ')', '-', 'oct', '31', ',', '2008', '-', 'finnish', 'food', 'company', 'raisio', 'oyj', '(', 'om', ':', 'raivv', ')', 'said', 'today', 'that', 'its', 'net', 'profit', 'jumped', 'to', 'eur', '16.4', 'million', '(', 'usd', '20.9', 'm', ')', 'for', 'the', 'first', 'nine', 'months', 'of', '2008', 'from', 'eur', '1.1', 'million', 'for', 'the', 'same', 'period', 'of', '2'], tags=[0])],\n",
       "      dtype=object)"
      ]
     },
     "execution_count": 19,
     "metadata": {},
     "output_type": "execute_result"
    }
   ],
   "source": [
    "#train_tagged.values[2173]\n",
    "train_tagged.values"
   ]
  },
  {
   "cell_type": "markdown",
   "metadata": {
    "papermill": {
     "duration": 0.052552,
     "end_time": "2020-10-12T12:26:57.388708",
     "exception": false,
     "start_time": "2020-10-12T12:26:57.336156",
     "status": "completed"
    },
    "tags": []
   },
   "source": [
    "Model DM = 1\n",
    "\n",
    "This work use DM=1 (it preserve word order)"
   ]
  },
  {
   "cell_type": "code",
   "execution_count": 20,
   "metadata": {
    "execution": {
     "iopub.execute_input": "2020-10-12T12:26:57.500829Z",
     "iopub.status.busy": "2020-10-12T12:26:57.499982Z",
     "iopub.status.idle": "2020-10-12T12:27:02.496799Z",
     "shell.execute_reply": "2020-10-12T12:27:02.496132Z"
    },
    "papermill": {
     "duration": 5.055169,
     "end_time": "2020-10-12T12:27:02.496925",
     "exception": false,
     "start_time": "2020-10-12T12:26:57.441756",
     "status": "completed"
    },
    "tags": []
   },
   "outputs": [
    {
     "name": "stderr",
     "output_type": "stream",
     "text": [
      "100%|███████████████████████████████████| 4844/4844 [00:00<00:00, 771461.44it/s]\n"
     ]
    }
   ],
   "source": [
    "d2v_model = Doc2Vec(dm=1, dm_mean=1, vector_size=20, window=8, min_count=1, workers=1, alpha=0.065, min_alpha=0.065)\n",
    "d2v_model.build_vocab([x for x in tqdm(train_tagged.values)])\n"
   ]
  },
  {
   "cell_type": "code",
   "execution_count": 21,
   "metadata": {
    "execution": {
     "iopub.execute_input": "2020-10-12T12:27:02.612438Z",
     "iopub.status.busy": "2020-10-12T12:27:02.611409Z",
     "iopub.status.idle": "2020-10-12T12:27:16.819216Z",
     "shell.execute_reply": "2020-10-12T12:27:16.818556Z"
    },
    "papermill": {
     "duration": 14.268056,
     "end_time": "2020-10-12T12:27:16.819361",
     "exception": false,
     "start_time": "2020-10-12T12:27:02.551305",
     "status": "completed"
    },
    "tags": []
   },
   "outputs": [
    {
     "name": "stderr",
     "output_type": "stream",
     "text": [
      "100%|███████████████████████████████████| 4844/4844 [00:00<00:00, 442130.19it/s]\n",
      "100%|██████████████████████████████████| 4844/4844 [00:00<00:00, 3532813.18it/s]\n",
      "100%|██████████████████████████████████| 4844/4844 [00:00<00:00, 2862384.98it/s]\n",
      "100%|██████████████████████████████████| 4844/4844 [00:00<00:00, 1958662.74it/s]\n",
      "100%|██████████████████████████████████| 4844/4844 [00:00<00:00, 2937710.90it/s]\n",
      "100%|██████████████████████████████████| 4844/4844 [00:00<00:00, 3016660.52it/s]\n",
      "100%|██████████████████████████████████| 4844/4844 [00:00<00:00, 2866423.33it/s]\n",
      "100%|██████████████████████████████████| 4844/4844 [00:00<00:00, 2739645.17it/s]\n",
      "100%|██████████████████████████████████| 4844/4844 [00:00<00:00, 2771410.25it/s]\n",
      "100%|██████████████████████████████████| 4844/4844 [00:00<00:00, 2553696.40it/s]\n",
      "100%|██████████████████████████████████| 4844/4844 [00:00<00:00, 2569521.76it/s]\n",
      "100%|██████████████████████████████████| 4844/4844 [00:00<00:00, 2358352.71it/s]\n",
      "100%|██████████████████████████████████| 4844/4844 [00:00<00:00, 2815187.55it/s]\n",
      "100%|██████████████████████████████████| 4844/4844 [00:00<00:00, 2036200.50it/s]\n",
      "100%|██████████████████████████████████| 4844/4844 [00:00<00:00, 2849538.37it/s]\n",
      "100%|██████████████████████████████████| 4844/4844 [00:00<00:00, 2761991.38it/s]\n",
      "100%|██████████████████████████████████| 4844/4844 [00:00<00:00, 3396390.60it/s]\n",
      "100%|██████████████████████████████████| 4844/4844 [00:00<00:00, 2599770.77it/s]\n",
      "100%|██████████████████████████████████| 4844/4844 [00:00<00:00, 2868446.78it/s]\n",
      "100%|██████████████████████████████████| 4844/4844 [00:00<00:00, 2713664.83it/s]\n",
      "100%|██████████████████████████████████| 4844/4844 [00:00<00:00, 2966882.09it/s]\n",
      "100%|██████████████████████████████████| 4844/4844 [00:00<00:00, 2692804.32it/s]\n",
      "100%|██████████████████████████████████| 4844/4844 [00:00<00:00, 3025194.84it/s]\n",
      "100%|██████████████████████████████████| 4844/4844 [00:00<00:00, 2849138.77it/s]\n",
      "100%|██████████████████████████████████| 4844/4844 [00:00<00:00, 2289005.02it/s]\n",
      "100%|██████████████████████████████████| 4844/4844 [00:00<00:00, 2836014.60it/s]\n",
      "100%|██████████████████████████████████| 4844/4844 [00:00<00:00, 1594507.03it/s]\n",
      "100%|██████████████████████████████████| 4844/4844 [00:00<00:00, 2017397.34it/s]\n",
      "100%|██████████████████████████████████| 4844/4844 [00:00<00:00, 2262495.39it/s]\n",
      "100%|██████████████████████████████████| 4844/4844 [00:00<00:00, 2058689.69it/s]\n"
     ]
    },
    {
     "name": "stdout",
     "output_type": "stream",
     "text": [
      "CPU times: user 10.2 s, sys: 167 ms, total: 10.4 s\n",
      "Wall time: 10.5 s\n"
     ]
    }
   ],
   "source": [
    "%%time\n",
    "for epoch in range(30):\n",
    "    d2v_model.train(utils.shuffle([x for x in tqdm(train_tagged.values)]), total_examples=len(train_tagged.values), epochs=1)\n",
    "    d2v_model.alpha -= 0.002\n",
    "    d2v_model.min_alpha = d2v_model.alpha"
   ]
  },
  {
   "cell_type": "code",
   "execution_count": 22,
   "metadata": {
    "execution": {
     "iopub.execute_input": "2020-10-12T12:27:17.010712Z",
     "iopub.status.busy": "2020-10-12T12:27:17.009541Z",
     "iopub.status.idle": "2020-10-12T12:27:17.013494Z",
     "shell.execute_reply": "2020-10-12T12:27:17.014661Z"
    },
    "papermill": {
     "duration": 0.102522,
     "end_time": "2020-10-12T12:27:17.014909",
     "exception": false,
     "start_time": "2020-10-12T12:27:16.912387",
     "status": "completed"
    },
    "tags": []
   },
   "outputs": [
    {
     "name": "stdout",
     "output_type": "stream",
     "text": [
      "Doc2Vec(dm/m,d20,n5,w8,s0.001)\n"
     ]
    }
   ],
   "source": [
    "print(d2v_model)\n"
   ]
  },
  {
   "cell_type": "code",
   "execution_count": 23,
   "metadata": {
    "execution": {
     "iopub.execute_input": "2020-10-12T12:27:17.201967Z",
     "iopub.status.busy": "2020-10-12T12:27:17.200766Z",
     "iopub.status.idle": "2020-10-12T12:27:17.205291Z",
     "shell.execute_reply": "2020-10-12T12:27:17.204596Z"
    },
    "papermill": {
     "duration": 0.099901,
     "end_time": "2020-10-12T12:27:17.205421",
     "exception": false,
     "start_time": "2020-10-12T12:27:17.105520",
     "status": "completed"
    },
    "tags": []
   },
   "outputs": [
    {
     "data": {
      "text/plain": [
       "11682"
      ]
     },
     "execution_count": 23,
     "metadata": {},
     "output_type": "execute_result"
    }
   ],
   "source": [
    "# len(d2v_model.wv.vocab)\n",
    "len(d2v_model.wv)"
   ]
  },
  {
   "cell_type": "code",
   "execution_count": 24,
   "metadata": {
    "execution": {
     "iopub.execute_input": "2020-10-12T12:27:17.394356Z",
     "iopub.status.busy": "2020-10-12T12:27:17.393493Z",
     "iopub.status.idle": "2020-10-12T12:27:17.397508Z",
     "shell.execute_reply": "2020-10-12T12:27:17.396883Z"
    },
    "papermill": {
     "duration": 0.101069,
     "end_time": "2020-10-12T12:27:17.397647",
     "exception": false,
     "start_time": "2020-10-12T12:27:17.296578",
     "status": "completed"
    },
    "tags": []
   },
   "outputs": [],
   "source": [
    "# save the vectors in a new matrix\n",
    "embedding_matrix = np.zeros((len(d2v_model.wv)+ 1, 20))\n",
    "\n",
    "for i, vec in enumerate(d2v_model.dv.vectors):\n",
    "    while i in vec <= 1000:\n",
    "    #print(i)\n",
    "    #print(model.docvecs)\n",
    "          embedding_matrix[i]=vec\n",
    "    #print(vec)\n",
    "    #print(vec[i])"
   ]
  },
  {
   "cell_type": "markdown",
   "metadata": {
    "papermill": {
     "duration": 0.089396,
     "end_time": "2020-10-12T12:27:17.576795",
     "exception": false,
     "start_time": "2020-10-12T12:27:17.487399",
     "status": "completed"
    },
    "tags": []
   },
   "source": [
    "# Measuring distance between two vectors (related to cosine similarity)"
   ]
  },
  {
   "cell_type": "code",
   "execution_count": 25,
   "metadata": {
    "execution": {
     "iopub.execute_input": "2020-10-12T12:27:17.761221Z",
     "iopub.status.busy": "2020-10-12T12:27:17.760471Z",
     "iopub.status.idle": "2020-10-12T12:27:17.771803Z",
     "shell.execute_reply": "2020-10-12T12:27:17.772439Z"
    },
    "papermill": {
     "duration": 0.106359,
     "end_time": "2020-10-12T12:27:17.772620",
     "exception": false,
     "start_time": "2020-10-12T12:27:17.666261",
     "status": "completed"
    },
    "tags": []
   },
   "outputs": [
    {
     "data": {
      "text/plain": [
       "[('loss', 0.8858179450035095),\n",
       " ('income', 0.8666175007820129),\n",
       " ('sales', 0.7798413634300232),\n",
       " ('profits', 0.7695634961128235),\n",
       " ('bill', 0.6854874491691589),\n",
       " ('welsh', 0.6689266562461853),\n",
       " ('talks', 0.6682202816009521),\n",
       " ('larger-than-epected', 0.6645731925964355),\n",
       " ('flurry', 0.6612420678138733),\n",
       " ('4.9', 0.6602129340171814)]"
      ]
     },
     "execution_count": 25,
     "metadata": {},
     "output_type": "execute_result"
    }
   ],
   "source": [
    "d2v_model.wv.most_similar(positive=['profit'], topn=10)\n"
   ]
  },
  {
   "cell_type": "code",
   "execution_count": 26,
   "metadata": {
    "execution": {
     "iopub.execute_input": "2020-10-12T12:27:17.965398Z",
     "iopub.status.busy": "2020-10-12T12:27:17.964632Z",
     "iopub.status.idle": "2020-10-12T12:27:17.971853Z",
     "shell.execute_reply": "2020-10-12T12:27:17.971196Z"
    },
    "papermill": {
     "duration": 0.10422,
     "end_time": "2020-10-12T12:27:17.971999",
     "exception": false,
     "start_time": "2020-10-12T12:27:17.867779",
     "status": "completed"
    },
    "tags": []
   },
   "outputs": [
    {
     "data": {
      "text/plain": [
       "[('2,534.9', 0.7380010485649109),\n",
       " ('property', 0.7234103083610535),\n",
       " ('brista', 0.7027177810668945),\n",
       " ('cameco', 0.7002095580101013),\n",
       " ('properties', 0.6993725895881653),\n",
       " ('3,143.57', 0.6909981966018677),\n",
       " ('talvivaara', 0.6896988153457642),\n",
       " ('real', 0.6893563866615295),\n",
       " ('ebit', 0.6822994947433472),\n",
       " ('organization', 0.6805384755134583)]"
      ]
     },
     "execution_count": 26,
     "metadata": {},
     "output_type": "execute_result"
    }
   ],
   "source": [
    "d2v_model.wv.most_similar(positive=['investment'], topn=10)\n"
   ]
  },
  {
   "cell_type": "code",
   "execution_count": 27,
   "metadata": {
    "execution": {
     "iopub.execute_input": "2020-10-12T12:27:18.168986Z",
     "iopub.status.busy": "2020-10-12T12:27:18.168217Z",
     "iopub.status.idle": "2020-10-12T12:27:18.175299Z",
     "shell.execute_reply": "2020-10-12T12:27:18.174527Z"
    },
    "papermill": {
     "duration": 0.108079,
     "end_time": "2020-10-12T12:27:18.175427",
     "exception": false,
     "start_time": "2020-10-12T12:27:18.067348",
     "status": "completed"
    },
    "tags": []
   },
   "outputs": [
    {
     "data": {
      "text/plain": [
       "[('mold', 0.9732284545898438),\n",
       " ('mika', 0.8666545152664185),\n",
       " (\"'m\", 0.863248348236084),\n",
       " ('aptly', 0.8611453175544739),\n",
       " ('my', 0.8552472591400146),\n",
       " ('i', 0.8406886458396912),\n",
       " ('bibs', 0.83356112241745),\n",
       " ('paycheck', 0.8255721926689148),\n",
       " ('baby', 0.8216559290885925),\n",
       " ('aboavista', 0.8213950991630554)]"
      ]
     },
     "execution_count": 27,
     "metadata": {},
     "output_type": "execute_result"
    }
   ],
   "source": [
    "d2v_model.wv.most_similar(positive=['broke'], topn=10)"
   ]
  },
  {
   "cell_type": "markdown",
   "metadata": {
    "papermill": {
     "duration": 0.091436,
     "end_time": "2020-10-12T12:27:18.361351",
     "exception": false,
     "start_time": "2020-10-12T12:27:18.269915",
     "status": "completed"
    },
    "tags": []
   },
   "source": [
    "Plot Similarity word in Doc2vec"
   ]
  },
  {
   "cell_type": "code",
   "execution_count": 34,
   "metadata": {
    "execution": {
     "iopub.execute_input": "2020-10-12T12:27:18.566535Z",
     "iopub.status.busy": "2020-10-12T12:27:18.563808Z",
     "iopub.status.idle": "2020-10-12T12:27:18.682597Z",
     "shell.execute_reply": "2020-10-12T12:27:18.681749Z"
    },
    "papermill": {
     "duration": 0.229098,
     "end_time": "2020-10-12T12:27:18.682727",
     "exception": false,
     "start_time": "2020-10-12T12:27:18.453629",
     "status": "completed"
    },
    "tags": []
   },
   "outputs": [],
   "source": [
    "from sklearn.manifold import TSNE\n",
    "import matplotlib.pyplot as plt\n",
    "%matplotlib inline\n",
    "\n",
    "def tsne_plot(model):\n",
    "    \"Creates and TSNE model and plots it\"\n",
    "    labels = []\n",
    "    tokens = []\n",
    "\n",
    "    for word in d2v_model.wv:\n",
    "        tokens.append(model[word])\n",
    "        labels.append(word)\n",
    "    \n",
    "    tsne_model = TSNE(perplexity=40, n_components=2, init='pca', n_iter=250, random_state=23)\n",
    "    new_values = tsne_model.fit_transform(tokens)\n",
    "\n",
    "    x = []\n",
    "    y = []\n",
    "    for value in new_values:\n",
    "        x.append(value[0])\n",
    "        y.append(value[1])\n",
    "        \n",
    "    plt.figure(figsize=(16, 16)) \n",
    "    for i in range(len(x)):\n",
    "        plt.scatter(x[i],y[i])\n",
    "        plt.annotate(labels[i],\n",
    "                     xy=(x[i], y[i]),\n",
    "                     xytext=(5, 2),\n",
    "                     textcoords='offset points',\n",
    "                     ha='right',\n",
    "                     va='bottom')\n",
    "\n"
   ]
  },
  {
   "cell_type": "code",
   "execution_count": 35,
   "metadata": {},
   "outputs": [],
   "source": [
    "        \n",
    "plt.show()"
   ]
  },
  {
   "cell_type": "code",
   "execution_count": 36,
   "metadata": {
    "execution": {
     "iopub.execute_input": "2020-10-12T12:27:18.906477Z",
     "iopub.status.busy": "2020-10-12T12:27:18.890965Z",
     "iopub.status.idle": "2020-10-12T12:41:07.304510Z",
     "shell.execute_reply": "2020-10-12T12:41:07.305281Z"
    },
    "papermill": {
     "duration": 828.530585,
     "end_time": "2020-10-12T12:41:07.305476",
     "exception": false,
     "start_time": "2020-10-12T12:27:18.774891",
     "status": "completed"
    },
    "tags": []
   },
   "outputs": [],
   "source": [
    "#tsne_plot(d2v_model)"
   ]
  },
  {
   "cell_type": "markdown",
   "metadata": {
    "papermill": {
     "duration": 0.121792,
     "end_time": "2020-10-12T12:41:07.554437",
     "exception": false,
     "start_time": "2020-10-12T12:41:07.432645",
     "status": "completed"
    },
    "tags": []
   },
   "source": [
    "# Create the LSTM Model\n",
    "\n",
    "The parameter used here inspired by [3].\n",
    "\n"
   ]
  },
  {
   "cell_type": "code",
   "execution_count": 37,
   "metadata": {
    "execution": {
     "iopub.execute_input": "2020-10-12T12:41:07.812571Z",
     "iopub.status.busy": "2020-10-12T12:41:07.810122Z",
     "iopub.status.idle": "2020-10-12T12:41:09.303718Z",
     "shell.execute_reply": "2020-10-12T12:41:09.304591Z"
    },
    "papermill": {
     "duration": 1.627566,
     "end_time": "2020-10-12T12:41:09.304839",
     "exception": false,
     "start_time": "2020-10-12T12:41:07.677273",
     "status": "completed"
    },
    "scrolled": true,
    "tags": []
   },
   "outputs": [
    {
     "name": "stderr",
     "output_type": "stream",
     "text": [
      "2023-03-12 20:12:39.530070: I tensorflow/core/platform/cpu_feature_guard.cc:193] This TensorFlow binary is optimized with oneAPI Deep Neural Network Library (oneDNN) to use the following CPU instructions in performance-critical operations:  SSE4.1 SSE4.2 AVX AVX2 FMA\n",
      "To enable them in other operations, rebuild TensorFlow with the appropriate compiler flags.\n"
     ]
    },
    {
     "name": "stdout",
     "output_type": "stream",
     "text": [
      "Model: \"sequential\"\n",
      "_________________________________________________________________\n",
      " Layer (type)                Output Shape              Param #   \n",
      "=================================================================\n",
      " embedding (Embedding)       (None, 50, 20)            233660    \n",
      "                                                                 \n",
      " lstm (LSTM)                 (None, 50)                14200     \n",
      "                                                                 \n",
      " dense (Dense)               (None, 3)                 153       \n",
      "                                                                 \n",
      "=================================================================\n",
      "Total params: 248,013\n",
      "Trainable params: 248,013\n",
      "Non-trainable params: 0\n",
      "_________________________________________________________________\n"
     ]
    }
   ],
   "source": [
    "from keras.models import Sequential\n",
    "from keras.layers import LSTM, Dense, Embedding\n",
    "\n",
    "\n",
    "# init layer\n",
    "model = Sequential()\n",
    "\n",
    "# emmbed word vectors\n",
    "model.add(Embedding(len(d2v_model.wv)+1,20,input_length=X.shape[1],weights=[embedding_matrix],trainable=True))\n",
    "\n",
    "# learn the correlations\n",
    "def split_input(sequence):\n",
    "     return sequence[:-1], tf.reshape(sequence[1:], (-1,1))\n",
    "model.add(LSTM(50,return_sequences=False))\n",
    "model.add(Dense(3,activation=\"softmax\"))\n",
    "\n",
    "# output model skeleton\n",
    "model.summary()\n",
    "model.compile(optimizer=\"adam\",loss=\"binary_crossentropy\",metrics=['acc'])"
   ]
  },
  {
   "cell_type": "code",
   "execution_count": 38,
   "metadata": {
    "execution": {
     "iopub.execute_input": "2020-10-12T12:41:09.560246Z",
     "iopub.status.busy": "2020-10-12T12:41:09.559286Z",
     "iopub.status.idle": "2020-10-12T12:41:10.085335Z",
     "shell.execute_reply": "2020-10-12T12:41:10.084534Z"
    },
    "papermill": {
     "duration": 0.655789,
     "end_time": "2020-10-12T12:41:10.085483",
     "exception": false,
     "start_time": "2020-10-12T12:41:09.429694",
     "status": "completed"
    },
    "tags": []
   },
   "outputs": [
    {
     "data": {
      "image/png": "[encoded data removed]",
      "text/plain": [
       "<IPython.core.display.Image object>"
      ]
     },
     "execution_count": 38,
     "metadata": {},
     "output_type": "execute_result"
    }
   ],
   "source": [
    "from keras.utils import plot_model\n",
    "plot_model(model, to_file='model.png')"
   ]
  },
  {
   "cell_type": "code",
   "execution_count": 39,
   "metadata": {
    "execution": {
     "iopub.execute_input": "2020-10-12T12:41:10.344650Z",
     "iopub.status.busy": "2020-10-12T12:41:10.343769Z",
     "iopub.status.idle": "2020-10-12T12:41:10.352385Z",
     "shell.execute_reply": "2020-10-12T12:41:10.351730Z"
    },
    "papermill": {
     "duration": 0.141525,
     "end_time": "2020-10-12T12:41:10.352514",
     "exception": false,
     "start_time": "2020-10-12T12:41:10.210989",
     "status": "completed"
    },
    "tags": []
   },
   "outputs": [
    {
     "name": "stdout",
     "output_type": "stream",
     "text": [
      "(4118, 50) (4118, 3)\n",
      "(727, 50) (727, 3)\n"
     ]
    }
   ],
   "source": [
    "Y = pd.get_dummies(df['sentiment']).values\n",
    "X_train, X_test, Y_train, Y_test = train_test_split(X,Y, test_size = 0.15, random_state = 42)\n",
    "print(X_train.shape,Y_train.shape)\n",
    "print(X_test.shape,Y_test.shape)"
   ]
  },
  {
   "cell_type": "code",
   "execution_count": 40,
   "metadata": {
    "execution": {
     "iopub.execute_input": "2020-10-12T12:41:10.608444Z",
     "iopub.status.busy": "2020-10-12T12:41:10.607635Z",
     "iopub.status.idle": "2020-10-12T12:43:46.025691Z",
     "shell.execute_reply": "2020-10-12T12:43:46.026547Z"
    },
    "papermill": {
     "duration": 155.548128,
     "end_time": "2020-10-12T12:43:46.026784",
     "exception": false,
     "start_time": "2020-10-12T12:41:10.478656",
     "status": "completed"
    },
    "tags": []
   },
   "outputs": [
    {
     "name": "stdout",
     "output_type": "stream",
     "text": [
      "Epoch 1/50\n",
      "129/129 - 4s - loss: 0.5466 - acc: 0.6068 - 4s/epoch - 33ms/step\n",
      "Epoch 2/50\n",
      "129/129 - 3s - loss: 0.4092 - acc: 0.7062 - 3s/epoch - 24ms/step\n",
      "Epoch 3/50\n",
      "129/129 - 3s - loss: 0.2956 - acc: 0.7965 - 3s/epoch - 24ms/step\n",
      "Epoch 4/50\n",
      "129/129 - 3s - loss: 0.2321 - acc: 0.8375 - 3s/epoch - 21ms/step\n",
      "Epoch 5/50\n",
      "129/129 - 3s - loss: 0.1746 - acc: 0.8859 - 3s/epoch - 22ms/step\n",
      "Epoch 6/50\n",
      "129/129 - 3s - loss: 0.1118 - acc: 0.9458 - 3s/epoch - 23ms/step\n",
      "Epoch 7/50\n",
      "129/129 - 3s - loss: 0.0813 - acc: 0.9650 - 3s/epoch - 24ms/step\n",
      "Epoch 8/50\n",
      "129/129 - 3s - loss: 0.0660 - acc: 0.9709 - 3s/epoch - 24ms/step\n",
      "Epoch 9/50\n",
      "129/129 - 4s - loss: 0.0423 - acc: 0.9832 - 4s/epoch - 28ms/step\n",
      "Epoch 10/50\n",
      "129/129 - 3s - loss: 0.0301 - acc: 0.9876 - 3s/epoch - 24ms/step\n",
      "Epoch 11/50\n",
      "129/129 - 3s - loss: 0.0264 - acc: 0.9903 - 3s/epoch - 26ms/step\n",
      "Epoch 12/50\n",
      "129/129 - 4s - loss: 0.0225 - acc: 0.9925 - 4s/epoch - 30ms/step\n",
      "Epoch 13/50\n",
      "129/129 - 3s - loss: 0.0244 - acc: 0.9905 - 3s/epoch - 26ms/step\n",
      "Epoch 14/50\n",
      "129/129 - 3s - loss: 0.0192 - acc: 0.9932 - 3s/epoch - 26ms/step\n",
      "Epoch 15/50\n",
      "129/129 - 4s - loss: 0.0188 - acc: 0.9925 - 4s/epoch - 28ms/step\n",
      "Epoch 16/50\n",
      "129/129 - 3s - loss: 0.0166 - acc: 0.9944 - 3s/epoch - 27ms/step\n",
      "Epoch 17/50\n",
      "129/129 - 3s - loss: 0.0176 - acc: 0.9930 - 3s/epoch - 27ms/step\n",
      "Epoch 18/50\n",
      "129/129 - 4s - loss: 0.0129 - acc: 0.9949 - 4s/epoch - 32ms/step\n",
      "Epoch 19/50\n",
      "129/129 - 4s - loss: 0.0182 - acc: 0.9922 - 4s/epoch - 27ms/step\n",
      "Epoch 20/50\n",
      "129/129 - 4s - loss: 0.0116 - acc: 0.9949 - 4s/epoch - 29ms/step\n",
      "Epoch 21/50\n",
      "129/129 - 4s - loss: 0.0124 - acc: 0.9949 - 4s/epoch - 31ms/step\n",
      "Epoch 22/50\n",
      "129/129 - 4s - loss: 0.0157 - acc: 0.9934 - 4s/epoch - 29ms/step\n",
      "Epoch 23/50\n",
      "129/129 - 4s - loss: 0.0105 - acc: 0.9964 - 4s/epoch - 28ms/step\n",
      "Epoch 24/50\n",
      "129/129 - 4s - loss: 0.0107 - acc: 0.9956 - 4s/epoch - 30ms/step\n",
      "Epoch 25/50\n",
      "129/129 - 4s - loss: 0.0122 - acc: 0.9954 - 4s/epoch - 28ms/step\n",
      "Epoch 26/50\n",
      "129/129 - 4s - loss: 0.0071 - acc: 0.9968 - 4s/epoch - 28ms/step\n",
      "Epoch 27/50\n",
      "129/129 - 4s - loss: 0.0209 - acc: 0.9925 - 4s/epoch - 30ms/step\n",
      "Epoch 28/50\n",
      "129/129 - 4s - loss: 0.0074 - acc: 0.9968 - 4s/epoch - 30ms/step\n",
      "Epoch 29/50\n",
      "129/129 - 4s - loss: 0.0065 - acc: 0.9973 - 4s/epoch - 30ms/step\n",
      "Epoch 30/50\n",
      "129/129 - 4s - loss: 0.0075 - acc: 0.9978 - 4s/epoch - 31ms/step\n",
      "Epoch 31/50\n",
      "129/129 - 4s - loss: 0.0063 - acc: 0.9973 - 4s/epoch - 29ms/step\n",
      "Epoch 32/50\n",
      "129/129 - 4s - loss: 0.0081 - acc: 0.9956 - 4s/epoch - 30ms/step\n",
      "Epoch 33/50\n",
      "129/129 - 4s - loss: 0.0088 - acc: 0.9954 - 4s/epoch - 32ms/step\n",
      "Epoch 34/50\n",
      "129/129 - 4s - loss: 0.0049 - acc: 0.9976 - 4s/epoch - 29ms/step\n",
      "Epoch 35/50\n",
      "129/129 - 4s - loss: 0.0033 - acc: 0.9983 - 4s/epoch - 29ms/step\n",
      "Epoch 36/50\n",
      "129/129 - 4s - loss: 0.0027 - acc: 0.9988 - 4s/epoch - 29ms/step\n",
      "Epoch 37/50\n",
      "129/129 - 4s - loss: 0.0023 - acc: 0.9988 - 4s/epoch - 31ms/step\n",
      "Epoch 38/50\n",
      "129/129 - 4s - loss: 0.0041 - acc: 0.9983 - 4s/epoch - 30ms/step\n",
      "Epoch 39/50\n",
      "129/129 - 4s - loss: 0.0047 - acc: 0.9983 - 4s/epoch - 29ms/step\n",
      "Epoch 40/50\n",
      "129/129 - 4s - loss: 0.0044 - acc: 0.9985 - 4s/epoch - 29ms/step\n",
      "Epoch 41/50\n",
      "129/129 - 4s - loss: 0.0057 - acc: 0.9961 - 4s/epoch - 30ms/step\n",
      "Epoch 42/50\n",
      "129/129 - 4s - loss: 0.0080 - acc: 0.9968 - 4s/epoch - 31ms/step\n",
      "Epoch 43/50\n",
      "129/129 - 4s - loss: 0.0109 - acc: 0.9954 - 4s/epoch - 29ms/step\n",
      "Epoch 44/50\n",
      "129/129 - 4s - loss: 0.0061 - acc: 0.9973 - 4s/epoch - 29ms/step\n",
      "Epoch 45/50\n",
      "129/129 - 4s - loss: 0.0039 - acc: 0.9988 - 4s/epoch - 30ms/step\n",
      "Epoch 46/50\n",
      "129/129 - 4s - loss: 0.0026 - acc: 0.9983 - 4s/epoch - 31ms/step\n",
      "Epoch 47/50\n",
      "129/129 - 4s - loss: 0.0020 - acc: 0.9985 - 4s/epoch - 29ms/step\n",
      "Epoch 48/50\n",
      "129/129 - 4s - loss: 0.0019 - acc: 0.9988 - 4s/epoch - 29ms/step\n",
      "Epoch 49/50\n",
      "129/129 - 4s - loss: 0.0015 - acc: 0.9990 - 4s/epoch - 29ms/step\n",
      "Epoch 50/50\n",
      "129/129 - 4s - loss: 0.0013 - acc: 0.9990 - 4s/epoch - 29ms/step\n"
     ]
    }
   ],
   "source": [
    "batch_size = 32\n",
    "history=model.fit(X_train, Y_train, epochs=50, batch_size=batch_size, verbose=2)"
   ]
  },
  {
   "cell_type": "code",
   "execution_count": 41,
   "metadata": {
    "execution": {
     "iopub.execute_input": "2020-10-12T12:43:46.378339Z",
     "iopub.status.busy": "2020-10-12T12:43:46.376810Z",
     "iopub.status.idle": "2020-10-12T12:43:46.741316Z",
     "shell.execute_reply": "2020-10-12T12:43:46.740620Z"
    },
    "papermill": {
     "duration": 0.541444,
     "end_time": "2020-10-12T12:43:46.741447",
     "exception": false,
     "start_time": "2020-10-12T12:43:46.200003",
     "status": "completed"
    },
    "tags": []
   },
   "outputs": [
    {
     "data": {
      "image/png": "[encoded data removed]",
      "text/plain": [
       "<Figure size 640x480 with 1 Axes>"
      ]
     },
     "metadata": {},
     "output_type": "display_data"
    },
    {
     "data": {
      "image/png": "[encoded data removed]",
      "text/plain": [
       "<Figure size 640x480 with 1 Axes>"
      ]
     },
     "metadata": {},
     "output_type": "display_data"
    },
    {
     "data": {
      "text/plain": [
       "<Figure size 640x480 with 0 Axes>"
      ]
     },
     "metadata": {},
     "output_type": "display_data"
    }
   ],
   "source": [
    "plt.plot(history.history['acc'])\n",
    "plt.title('model accuracy')\n",
    "plt.ylabel('acc')\n",
    "plt.xlabel('epochs')\n",
    "plt.legend(['train', 'test'], loc='upper left')\n",
    "plt.show()\n",
    "plt.savefig('model_accuracy.png')\n",
    "\n",
    "# summarize history for loss\n",
    "plt.plot(history.history['loss'])\n",
    "#plt.plot(history.history['val_loss'])\n",
    "plt.title('model loss')\n",
    "plt.ylabel('loss')\n",
    "plt.xlabel('epochs')\n",
    "plt.legend(['train', 'test'], loc='upper left')\n",
    "plt.show()\n",
    "plt.savefig('model_loss.png')"
   ]
  },
  {
   "cell_type": "code",
   "execution_count": 42,
   "metadata": {
    "execution": {
     "iopub.execute_input": "2020-10-12T12:43:47.087448Z",
     "iopub.status.busy": "2020-10-12T12:43:47.086375Z",
     "iopub.status.idle": "2020-10-12T12:43:48.648960Z",
     "shell.execute_reply": "2020-10-12T12:43:48.648234Z"
    },
    "papermill": {
     "duration": 1.738385,
     "end_time": "2020-10-12T12:43:48.649121",
     "exception": false,
     "start_time": "2020-10-12T12:43:46.910736",
     "status": "completed"
    },
    "tags": []
   },
   "outputs": [
    {
     "name": "stdout",
     "output_type": "stream",
     "text": [
      "129/129 - 1s - loss: 0.0014 - acc: 0.9993 - 1s/epoch - 11ms/step\n",
      "23/23 - 0s - loss: 1.3864 - acc: 0.6988 - 247ms/epoch - 11ms/step\n",
      "Train: 0.999, Test: 0.6988\n"
     ]
    }
   ],
   "source": [
    "# evaluate the model\n",
    "_, train_acc = model.evaluate(X_train, Y_train, verbose=2)\n",
    "_, test_acc = model.evaluate(X_test, Y_test, verbose=2)\n",
    "print('Train: %.3f, Test: %.4f' % (train_acc, test_acc))"
   ]
  },
  {
   "cell_type": "code",
   "execution_count": 43,
   "metadata": {
    "execution": {
     "iopub.execute_input": "2020-10-12T12:43:48.986718Z",
     "iopub.status.busy": "2020-10-12T12:43:48.985884Z",
     "iopub.status.idle": "2020-10-12T12:43:49.764517Z",
     "shell.execute_reply": "2020-10-12T12:43:49.763845Z"
    },
    "papermill": {
     "duration": 0.950111,
     "end_time": "2020-10-12T12:43:49.764671",
     "exception": false,
     "start_time": "2020-10-12T12:43:48.814560",
     "status": "completed"
    },
    "tags": []
   },
   "outputs": [
    {
     "name": "stdout",
     "output_type": "stream",
     "text": [
      "[[1.0484026e-08 1.0000000e+00 3.3431968e-09]\n",
      " [1.0000000e+00 4.8075233e-09 9.3271764e-09]\n",
      " [4.3429726e-08 1.0000000e+00 1.8811610e-08]\n",
      " ...\n",
      " [1.9600663e-02 4.3539768e-03 9.7604531e-01]\n",
      " [9.2627100e-10 1.0000000e+00 5.8426758e-10]\n",
      " [9.9988413e-01 1.1152364e-04 4.2479605e-06]]\n",
      "[1 0 1 0 1 1 1 1 1 1 1 1 0 2 1 1 1 1 0 1 1 1 0 0 1 0 1 0 0 2 1 1 1 2 1 0 2\n",
      " 0 1 1 0 1 0 1 0 1 1 1 0 1 2 1 0 2 1 0 1 1 0 1 0 0 2 0 1 1 1 1 1 0 1 0 0 1\n",
      " 0 1 1 1 1 0 1 2 0 0 0 0 1 0 1 0 0 1 1 2 1 1 0 1 2 1 2 1 1 2 0 2 1 1 2 1 1\n",
      " 1 2 1 1 0 1 0 0 0 0 0 0 1 1 1 1 1 0 1 1 1 2 1 0 1 0 1 1 1 1 1 1 1 1 1 2 1\n",
      " 2 1 1 1 1 1 1 0 0 1 2 0 1 1 1 0 1 0 1 2 1 0 1 0 0 1 0 2 0 0 1 0 0 0 1 1 1\n",
      " 2 1 2 1 1 1 0 0 1 2 0 1 1 1 1 1 1 1 1 1 0 1 1 0 1 0 1 1 1 1 1 1 2 1 0 0 1\n",
      " 1 1 1 1 1 0 0 1 1 0 1 1 2 2 1 1 1 1 0 1 1 0 0 1 1 1 1 1 1 1 0 1 1 0 1 2 1\n",
      " 1 1 0 1 0 2 2 0 1 1 1 1 1 0 1 1 1 1 0 0 0 1 0 1 1 1 1 1 1 0 1 0 2 0 2 2 1\n",
      " 1 1 0 1 0 1 0 1 1 2 1 0 1 0 1 2 0 1 1 1 1 1 2 0 1 1 1 1 0 1 1 0 1 1 1 1 1\n",
      " 1 0 2 1 0 0 1 0 0 1 0 1 1 1 0 1 1 0 1 0 2 1 1 0 1 2 1 1 1 0 1 0 0 0 0 1 0\n",
      " 0 0 1 1 1 1 1 1 0 0 0 0 2 1 0 0 2 1 0 1 0 1 1 0 1 2 1 1 1 0 0 0 1 1 2 2 1\n",
      " 0 1 1 0 1 1 0 1 1 0 1 1 0 1 0 0 1 2 1 1 1 0 1 0 0 1 1 0 0 0 0 2 1 1 0 1 1\n",
      " 0 1 1 0 0 2 1 2 1 0 1 0 2 1 1 0 1 0 1 0 1 0 1 0 1 1 1 0 1 1 1 1 1 0 1 0 1\n",
      " 0 1 0 1 1 2 1 0 0 1 1 0 1 1 0 1 1 1 2 1 1 1 0 0 1 1 1 1 1 0 0 0 1 1 0 1 1\n",
      " 2 0 0 0 0 1 1 1 1 0 1 1 2 1 0 1 1 1 1 1 1 1 1 0 1 0 1 1 1 0 2 1 1 1 1 1 1\n",
      " 2 2 0 1 0 1 0 2 0 1 0 1 0 2 1 1 1 1 1 1 1 1 1 2 1 1 1 0 1 1 0 1 1 1 1 1 1\n",
      " 0 0 0 1 1 1 2 1 0 1 0 1 0 0 2 1 2 1 0 1 1 0 1 1 0 2 1 0 0 2 1 1 1 1 0 1 0\n",
      " 1 0 0 1 1 0 1 1 0 1 1 0 1 1 1 1 1 0 1 1 2 0 0 0 0 1 1 2 0 1 1 0 0 1 1 1 2\n",
      " 2 1 1 0 1 1 1 1 0 1 1 1 2 2 1 1 1 1 1 0 1 0 0 0 1 0 1 0 0 2 1 1 1 1 1 1 1\n",
      " 2 1 0 1 2 1 0 1 2 1 1 1 1 1 1 1 0 1 1 1 1 2 1 0]\n"
     ]
    }
   ],
   "source": [
    "# predict probabilities for test set\n",
    "yhat_probs = model.predict(X_test, verbose=0)\n",
    "print(yhat_probs)\n",
    "# predict crisp classes for test set\n",
    "yhat_classes = np.argmax(yhat_probs,axis=1)\n",
    "print(yhat_classes)\n",
    "# reduce to 1d array\n",
    "#yhat_probs = yhat_probs[:, 0]\n",
    "#yhat_classes = yhat_classes[:, 1"
   ]
  },
  {
   "cell_type": "code",
   "execution_count": 44,
   "metadata": {
    "execution": {
     "iopub.execute_input": "2020-10-12T12:43:50.104353Z",
     "iopub.status.busy": "2020-10-12T12:43:50.103137Z",
     "iopub.status.idle": "2020-10-12T12:43:50.107313Z",
     "shell.execute_reply": "2020-10-12T12:43:50.107971Z"
    },
    "papermill": {
     "duration": 0.178295,
     "end_time": "2020-10-12T12:43:50.108187",
     "exception": false,
     "start_time": "2020-10-12T12:43:49.929892",
     "status": "completed"
    },
    "tags": []
   },
   "outputs": [
    {
     "data": {
      "text/plain": [
       "array([1, 0, 1, 1, 1, 1, 1, 1, 1, 1, 1, 0, 1, 2, 1, 0, 1, 0, 0, 2, 2, 1,\n",
       "       0, 0, 1, 0, 1, 0, 0, 2, 1, 1, 0, 2, 1, 0, 2, 0, 1, 1, 0, 1, 2, 1,\n",
       "       0, 1, 1, 1, 0, 0, 2, 1, 0, 2, 1, 0, 1, 1, 1, 1, 0, 0, 0, 1, 2, 1,\n",
       "       0, 1, 1, 1, 1, 0, 0, 0, 0, 1, 0, 1, 1, 0, 1, 2, 0, 1, 0, 0, 0, 0,\n",
       "       0, 0, 0, 1, 2, 2, 1, 0, 1, 1, 0, 1, 2, 1, 1, 2, 1, 1, 1, 1, 1, 1,\n",
       "       1, 0, 2, 1, 1, 0, 0, 0, 0, 0, 0, 1, 1, 1, 1, 0, 0, 1, 0, 1, 2, 0,\n",
       "       1, 1, 0, 1, 0, 2, 1, 1, 1, 1, 1, 0, 1, 1, 1, 1, 0, 1, 1, 1, 1, 1,\n",
       "       1, 1, 1, 1, 2, 2, 0, 0, 1, 0, 1, 0, 1, 2, 1, 1, 1, 0, 1, 1, 0, 1,\n",
       "       1, 1, 1, 1, 0, 0, 1, 0, 1, 2, 1, 2, 1, 2, 1, 1, 0, 0, 1, 0, 2, 1,\n",
       "       2, 0, 1, 1, 0, 2, 1, 0, 1, 0, 0, 1, 1, 1, 1, 1, 1, 1, 1, 2, 0, 1,\n",
       "       0, 1, 1, 1, 2, 1, 1, 0, 1, 1, 1, 0, 0, 1, 2, 0, 1, 0, 1, 1, 1, 1,\n",
       "       1, 2, 0, 0, 0, 1, 1, 1, 1, 1, 0, 1, 1, 1, 1, 1, 1, 1, 1, 0, 1, 0,\n",
       "       2, 1, 2, 1, 1, 0, 1, 1, 2, 0, 1, 1, 1, 1, 1, 0, 1, 0, 1, 1, 0, 1,\n",
       "       1, 1, 2, 1, 0, 1, 0, 2, 2, 1, 1, 1, 0, 1, 0, 1, 1, 2, 1, 2, 1, 0,\n",
       "       1, 0, 1, 2, 1, 1, 0, 1, 1, 1, 1, 0, 1, 1, 0, 1, 0, 1, 1, 0, 1, 1,\n",
       "       1, 1, 0, 0, 0, 0, 0, 0, 1, 1, 1, 1, 0, 1, 1, 1, 2, 0, 2, 1, 0, 1,\n",
       "       1, 1, 1, 1, 0, 1, 2, 0, 1, 1, 1, 1, 0, 0, 1, 2, 1, 0, 0, 0, 1, 1,\n",
       "       1, 0, 1, 0, 2, 0, 0, 1, 2, 1, 0, 1, 0, 1, 1, 1, 1, 0, 1, 0, 1, 2,\n",
       "       2, 1, 0, 1, 1, 0, 1, 1, 2, 2, 0, 1, 1, 1, 1, 1, 0, 0, 1, 2, 0, 1,\n",
       "       1, 0, 2, 0, 1, 2, 2, 1, 1, 2, 1, 1, 0, 0, 1, 1, 1, 1, 1, 0, 2, 0,\n",
       "       1, 0, 1, 1, 1, 1, 0, 2, 1, 2, 1, 1, 1, 1, 1, 1, 2, 1, 1, 0, 1, 1,\n",
       "       1, 1, 1, 1, 1, 2, 1, 2, 1, 1, 1, 1, 1, 1, 0, 1, 1, 0, 1, 0, 1, 0,\n",
       "       1, 1, 1, 1, 0, 0, 1, 1, 1, 1, 1, 1, 1, 0, 1, 1, 1, 2, 1, 1, 0, 1,\n",
       "       1, 1, 1, 1, 2, 0, 0, 1, 0, 1, 0, 1, 1, 1, 1, 0, 0, 1, 1, 1, 0, 0,\n",
       "       1, 1, 2, 1, 0, 1, 1, 1, 1, 1, 1, 1, 1, 0, 1, 0, 1, 1, 0, 0, 2, 0,\n",
       "       0, 1, 1, 1, 1, 0, 2, 1, 0, 1, 1, 0, 2, 2, 1, 0, 1, 0, 2, 0, 0, 1,\n",
       "       1, 1, 1, 1, 1, 1, 2, 1, 1, 0, 0, 1, 1, 0, 1, 1, 1, 1, 0, 1, 1, 0,\n",
       "       0, 1, 1, 1, 2, 1, 1, 1, 1, 1, 1, 0, 2, 1, 2, 1, 0, 1, 0, 0, 0, 1,\n",
       "       1, 2, 1, 0, 2, 2, 1, 0, 1, 0, 1, 1, 0, 1, 0, 0, 2, 0, 0, 1, 1, 0,\n",
       "       1, 1, 1, 1, 1, 1, 1, 0, 0, 1, 1, 2, 0, 0, 0, 0, 1, 0, 2, 0, 1, 1,\n",
       "       0, 1, 1, 1, 1, 2, 1, 1, 1, 1, 1, 1, 1, 1, 1, 1, 1, 1, 0, 2, 1, 0,\n",
       "       1, 1, 1, 2, 0, 0, 1, 0, 1, 2, 1, 1, 1, 2, 1, 0, 1, 1, 1, 0, 1, 1,\n",
       "       2, 0, 1, 1, 1, 0, 1, 2, 1, 1, 1, 1, 0, 0, 0, 0, 1, 0, 1, 0, 1, 0,\n",
       "       0])"
      ]
     },
     "execution_count": 44,
     "metadata": {},
     "output_type": "execute_result"
    }
   ],
   "source": [
    "import numpy as np\n",
    "rounded_labels=np.argmax(Y_test, axis=1)\n",
    "rounded_labels"
   ]
  },
  {
   "cell_type": "code",
   "execution_count": 45,
   "metadata": {
    "execution": {
     "iopub.execute_input": "2020-10-12T12:43:50.462368Z",
     "iopub.status.busy": "2020-10-12T12:43:50.461233Z",
     "iopub.status.idle": "2020-10-12T12:43:50.472789Z",
     "shell.execute_reply": "2020-10-12T12:43:50.473661Z"
    },
    "papermill": {
     "duration": 0.186503,
     "end_time": "2020-10-12T12:43:50.473880",
     "exception": false,
     "start_time": "2020-10-12T12:43:50.287377",
     "status": "completed"
    },
    "tags": []
   },
   "outputs": [
    {
     "data": {
      "text/plain": [
       "array([[130,  77,   8],\n",
       "       [ 77, 330,  19],\n",
       "       [ 15,  23,  48]])"
      ]
     },
     "execution_count": 45,
     "metadata": {},
     "output_type": "execute_result"
    }
   ],
   "source": [
    "from sklearn.metrics import confusion_matrix\n",
    "cm = confusion_matrix(rounded_labels, yhat_classes)\n",
    "cm"
   ]
  },
  {
   "cell_type": "code",
   "execution_count": 46,
   "metadata": {
    "execution": {
     "iopub.execute_input": "2020-10-12T12:43:50.837934Z",
     "iopub.status.busy": "2020-10-12T12:43:50.837130Z",
     "iopub.status.idle": "2020-10-12T12:43:51.045528Z",
     "shell.execute_reply": "2020-10-12T12:43:51.046112Z"
    },
    "papermill": {
     "duration": 0.38367,
     "end_time": "2020-10-12T12:43:51.046279",
     "exception": false,
     "start_time": "2020-10-12T12:43:50.662609",
     "status": "completed"
    },
    "tags": []
   },
   "outputs": [
    {
     "data": {
      "image/png": "[encoded data removed]",
      "text/plain": [
       "<Figure size 500x500 with 2 Axes>"
      ]
     },
     "metadata": {},
     "output_type": "display_data"
    }
   ],
   "source": [
    "# The confusion matrix\n",
    "from sklearn.metrics import confusion_matrix\n",
    "import seaborn as sns\n",
    "\n",
    "lstm_val = confusion_matrix(rounded_labels, yhat_classes)\n",
    "f, ax = plt.subplots(figsize=(5,5))\n",
    "sns.heatmap(lstm_val, annot=True, linewidth=0.7, linecolor='cyan', fmt='g', ax=ax, cmap=\"BuPu\")\n",
    "plt.title('LSTM Classification Confusion Matrix')\n",
    "plt.xlabel('Y predict')\n",
    "plt.ylabel('Y test')\n",
    "plt.show()"
   ]
  },
  {
   "cell_type": "markdown",
   "metadata": {
    "papermill": {
     "duration": 0.170884,
     "end_time": "2020-10-12T12:43:51.385992",
     "exception": false,
     "start_time": "2020-10-12T12:43:51.215108",
     "status": "completed"
    },
    "tags": []
   },
   "source": [
    "# Validation"
   ]
  },
  {
   "cell_type": "code",
   "execution_count": 47,
   "metadata": {
    "execution": {
     "iopub.execute_input": "2020-10-12T12:43:51.730872Z",
     "iopub.status.busy": "2020-10-12T12:43:51.730129Z",
     "iopub.status.idle": "2020-10-12T12:43:51.805599Z",
     "shell.execute_reply": "2020-10-12T12:43:51.804911Z"
    },
    "papermill": {
     "duration": 0.250835,
     "end_time": "2020-10-12T12:43:51.805722",
     "exception": false,
     "start_time": "2020-10-12T12:43:51.554887",
     "status": "completed"
    },
    "tags": []
   },
   "outputs": [
    {
     "name": "stdout",
     "output_type": "stream",
     "text": [
      "4/4 [==============================] - 0s 7ms/step - loss: 1.3417 - acc: 0.7436\n",
      "score: 1.34\n",
      "acc: 0.74\n"
     ]
    }
   ],
   "source": [
    "validation_size = 610\n",
    "\n",
    "X_validate = X_test[-validation_size:]\n",
    "Y_validate = Y_test[-validation_size:]\n",
    "X_test = X_test[:-validation_size]\n",
    "Y_test = Y_test[:-validation_size]\n",
    "score,acc = model.evaluate(X_test, Y_test, verbose = 1, batch_size = batch_size)\n",
    "\n",
    "print(\"score: %.2f\" % (score))\n",
    "print(\"acc: %.2f\" % (acc))"
   ]
  },
  {
   "cell_type": "markdown",
   "metadata": {
    "papermill": {
     "duration": 0.16783,
     "end_time": "2020-10-12T12:43:52.141630",
     "exception": false,
     "start_time": "2020-10-12T12:43:51.973800",
     "status": "completed"
    },
    "tags": []
   },
   "source": [
    "**Save Model**\n"
   ]
  },
  {
   "cell_type": "code",
   "execution_count": 48,
   "metadata": {
    "execution": {
     "iopub.execute_input": "2020-10-12T12:43:52.493269Z",
     "iopub.status.busy": "2020-10-12T12:43:52.492488Z",
     "iopub.status.idle": "2020-10-12T12:43:52.516965Z",
     "shell.execute_reply": "2020-10-12T12:43:52.516112Z"
    },
    "papermill": {
     "duration": 0.206645,
     "end_time": "2020-10-12T12:43:52.517130",
     "exception": false,
     "start_time": "2020-10-12T12:43:52.310485",
     "status": "completed"
    },
    "tags": []
   },
   "outputs": [],
   "source": [
    "\n",
    "model.save('Mymodel.h5')"
   ]
  },
  {
   "cell_type": "markdown",
   "metadata": {
    "papermill": {
     "duration": 0.167501,
     "end_time": "2020-10-12T12:43:52.853834",
     "exception": false,
     "start_time": "2020-10-12T12:43:52.686333",
     "status": "completed"
    },
    "tags": []
   },
   "source": [
    "**Test with new and different data set aside from the data to build the model.**\n",
    "\n",
    "note : sentiment  = {'positive': 0,'neutral': 1,'negative':2} "
   ]
  },
  {
   "cell_type": "code",
   "execution_count": 49,
   "metadata": {
    "execution": {
     "iopub.execute_input": "2020-10-12T12:43:53.199311Z",
     "iopub.status.busy": "2020-10-12T12:43:53.198428Z",
     "iopub.status.idle": "2020-10-12T12:43:53.243859Z",
     "shell.execute_reply": "2020-10-12T12:43:53.243174Z"
    },
    "papermill": {
     "duration": 0.222406,
     "end_time": "2020-10-12T12:43:53.243981",
     "exception": false,
     "start_time": "2020-10-12T12:43:53.021575",
     "status": "completed"
    },
    "tags": []
   },
   "outputs": [
    {
     "name": "stdout",
     "output_type": "stream",
     "text": [
      "1/1 [==============================] - 0s 30ms/step\n",
      "[[0.9848114  0.01038189 0.00480662]] 0\n"
     ]
    }
   ],
   "source": [
    "message = ['Congratulations! you have won a $1,000 Walmart gift card']\n",
    "seq = tokenizer.texts_to_sequences(message)\n",
    "\n",
    "padded = pad_sequences(seq, maxlen=X.shape[1], dtype='int32', value=0)\n",
    "\n",
    "pred = model.predict(padded)\n",
    "\n",
    "labels = ['0','1','2']\n",
    "print(pred, labels[np.argmax(pred)])"
   ]
  },
  {
   "cell_type": "code",
   "execution_count": 50,
   "metadata": {
    "execution": {
     "iopub.execute_input": "2020-10-12T12:43:53.592803Z",
     "iopub.status.busy": "2020-10-12T12:43:53.592004Z",
     "iopub.status.idle": "2020-10-12T12:43:53.635560Z",
     "shell.execute_reply": "2020-10-12T12:43:53.634750Z"
    },
    "papermill": {
     "duration": 0.221668,
     "end_time": "2020-10-12T12:43:53.635699",
     "exception": false,
     "start_time": "2020-10-12T12:43:53.414031",
     "status": "completed"
    },
    "tags": []
   },
   "outputs": [
    {
     "name": "stdout",
     "output_type": "stream",
     "text": [
      "1/1 [==============================] - 0s 26ms/step\n",
      "[[6.5835234e-04 5.1018360e-06 9.9933654e-01]] 2\n"
     ]
    }
   ],
   "source": [
    "message = ['such massive asteroid hit will certainly create new business opportunities']\n",
    "seq = tokenizer.texts_to_sequences(message)\n",
    "\n",
    "padded = pad_sequences(seq, maxlen=X.shape[1], dtype='int32', value=0)\n",
    "\n",
    "pred = model.predict(padded)\n",
    "\n",
    "labels = ['0','1','2']\n",
    "print(pred, labels[np.argmax(pred)])"
   ]
  },
  {
   "cell_type": "code",
   "execution_count": 51,
   "metadata": {
    "execution": {
     "iopub.execute_input": "2020-10-12T12:43:53.983749Z",
     "iopub.status.busy": "2020-10-12T12:43:53.982963Z",
     "iopub.status.idle": "2020-10-12T12:43:54.028754Z",
     "shell.execute_reply": "2020-10-12T12:43:54.027862Z"
    },
    "papermill": {
     "duration": 0.224137,
     "end_time": "2020-10-12T12:43:54.028888",
     "exception": false,
     "start_time": "2020-10-12T12:43:53.804751",
     "status": "completed"
    },
    "tags": []
   },
   "outputs": [
    {
     "name": "stdout",
     "output_type": "stream",
     "text": [
      "1/1 [==============================] - 0s 27ms/step\n",
      "[[1.0830495e-11 1.0000000e+00 8.6539664e-12]] 1\n"
     ]
    }
   ],
   "source": [
    "message = ['so does anyone else not open Snapchat anymore ? or is it just me ... ugh this so sad.']\n",
    "seq = tokenizer.texts_to_sequences(message)\n",
    "\n",
    "padded = pad_sequences(seq, maxlen=X.shape[1], dtype='int32', value=0)\n",
    "\n",
    "pred = model.predict(padded)\n",
    "\n",
    "labels = ['0','1','2']\n",
    "print(pred, labels[np.argmax(pred)])"
   ]
  },
  {
   "cell_type": "code",
   "execution_count": 52,
   "metadata": {
    "execution": {
     "iopub.execute_input": "2020-10-12T12:43:54.379379Z",
     "iopub.status.busy": "2020-10-12T12:43:54.378574Z",
     "iopub.status.idle": "2020-10-12T12:43:54.424891Z",
     "shell.execute_reply": "2020-10-12T12:43:54.424087Z"
    },
    "papermill": {
     "duration": 0.226279,
     "end_time": "2020-10-12T12:43:54.425024",
     "exception": false,
     "start_time": "2020-10-12T12:43:54.198745",
     "status": "completed"
    },
    "tags": []
   },
   "outputs": [
    {
     "name": "stdout",
     "output_type": "stream",
     "text": [
      "1/1 [==============================] - 0s 27ms/step\n",
      "[[9.9997377e-01 1.0691621e-05 1.5510310e-05]] 0\n"
     ]
    }
   ],
   "source": [
    "message = ['@elonmusk had a terrible experience with a very pushy sales guy from tesla Stanford shop while shopping for model x']\n",
    "seq = tokenizer.texts_to_sequences(message)\n",
    "\n",
    "padded = pad_sequences(seq, maxlen=X.shape[1], dtype='int32', value=0)\n",
    "\n",
    "pred = model.predict(padded)\n",
    "\n",
    "labels = ['0','1','2']\n",
    "print(pred, labels[np.argmax(pred)])"
   ]
  },
  {
   "cell_type": "code",
   "execution_count": 53,
   "metadata": {
    "execution": {
     "iopub.execute_input": "2020-10-12T12:43:54.775597Z",
     "iopub.status.busy": "2020-10-12T12:43:54.774486Z",
     "iopub.status.idle": "2020-10-12T12:43:54.818737Z",
     "shell.execute_reply": "2020-10-12T12:43:54.817952Z"
    },
    "papermill": {
     "duration": 0.222813,
     "end_time": "2020-10-12T12:43:54.818863",
     "exception": false,
     "start_time": "2020-10-12T12:43:54.596050",
     "status": "completed"
    },
    "tags": []
   },
   "outputs": [
    {
     "name": "stdout",
     "output_type": "stream",
     "text": [
      "1/1 [==============================] - 0s 24ms/step\n",
      "[[3.851258e-08 1.000000e+00 5.769633e-09]] 1\n"
     ]
    }
   ],
   "source": [
    "message = ['The local electronics industry is expected to remain stable amid layoff concerns surrounding Japanese electronics giants operating in the country, an official says.']\n",
    "seq = tokenizer.texts_to_sequences(message)\n",
    "\n",
    "padded = pad_sequences(seq, maxlen=X.shape[1], dtype='int32', value=0)\n",
    "\n",
    "pred = model.predict(padded)\n",
    "\n",
    "labels = ['0','1','2']\n",
    "print(pred, labels[np.argmax(pred)])"
   ]
  },
  {
   "cell_type": "code",
   "execution_count": 54,
   "metadata": {
    "execution": {
     "iopub.execute_input": "2020-10-12T12:43:55.172462Z",
     "iopub.status.busy": "2020-10-12T12:43:55.171354Z",
     "iopub.status.idle": "2020-10-12T12:43:55.216129Z",
     "shell.execute_reply": "2020-10-12T12:43:55.215419Z"
    },
    "papermill": {
     "duration": 0.22453,
     "end_time": "2020-10-12T12:43:55.216271",
     "exception": false,
     "start_time": "2020-10-12T12:43:54.991741",
     "status": "completed"
    },
    "tags": []
   },
   "outputs": [
    {
     "name": "stdout",
     "output_type": "stream",
     "text": [
      "1/1 [==============================] - 0s 26ms/step\n",
      "[[8.7592809e-07 9.5234412e-08 9.9999905e-01]] 2\n"
     ]
    }
   ],
   "source": [
    "message = ['The local electronics industry is amid layoff concerns and last year has laid off tens of employees']\n",
    "seq = tokenizer.texts_to_sequences(message)\n",
    "\n",
    "padded = pad_sequences(seq, maxlen=X.shape[1], dtype='int32', value=0)\n",
    "\n",
    "pred = model.predict(padded)\n",
    "\n",
    "labels = ['0','1','2']\n",
    "print(pred, labels[np.argmax(pred)])"
   ]
  },
  {
   "cell_type": "markdown",
   "metadata": {
    "papermill": {
     "duration": 0.17155,
     "end_time": "2020-10-12T12:43:55.562639",
     "exception": false,
     "start_time": "2020-10-12T12:43:55.391089",
     "status": "completed"
    },
    "tags": []
   },
   "source": [
    "References\n",
    "* [1] Artificial Inteligence, Machine Learning and Deep Learning by Mercury Learning and Informarion (Book)\n",
    "* [2] Source Information of NLP :https://monkeylearn.com/what-is-text-classification/\n",
    "* [3] Parameter doc2vec and  LSTM inspired  by : https://dl.acm.org/doi/10.1145/3406601.3406624\n",
    "* [4] (Bing Liu. Sentiment Analysis and Opinion Mining, Morgan & Claypool Publishers, May 2012.)"
   ]
  },
  {
   "cell_type": "markdown",
   "metadata": {},
   "source": []
  },
  {
   "cell_type": "code",
   "execution_count": null,
   "metadata": {},
   "outputs": [],
   "source": []
  }
 ],
 "metadata": {
  "kernelspec": {
   "display_name": "Python 3 (ipykernel)",
   "language": "python",
   "name": "python3"
  },
  "language_info": {
   "codemirror_mode": {
    "name": "ipython",
    "version": 3
   },
   "file_extension": ".py",
   "mimetype": "text/x-python",
   "name": "python",
   "nbconvert_exporter": "python",
   "pygments_lexer": "ipython3",
   "version": "3.9.13"
  },
  "papermill": {
   "duration": 1038.73911,
   "end_time": "2020-10-12T12:43:55.843833",
   "environment_variables": {},
   "exception": null,
   "input_path": "__notebook__.ipynb",
   "output_path": "__notebook__.ipynb",
   "parameters": {},
   "start_time": "2020-10-12T12:26:37.104723",
   "version": "2.1.0"
  }
 },
 "nbformat": 4,
 "nbformat_minor": 4
}
